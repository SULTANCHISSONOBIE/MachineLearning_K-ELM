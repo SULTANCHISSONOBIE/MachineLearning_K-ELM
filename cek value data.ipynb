{
 "cells": [
  {
   "cell_type": "code",
   "execution_count": 15,
   "metadata": {},
   "outputs": [
    {
     "name": "stdout",
     "output_type": "stream",
     "text": [
      "<class 'pandas.core.frame.DataFrame'>\n",
      "RangeIndex: 2000 entries, 0 to 1999\n",
      "Data columns (total 6 columns):\n",
      " #   Column    Non-Null Count  Dtype  \n",
      "---  ------    --------------  -----  \n",
      " 0   PM10      2000 non-null   float64\n",
      " 1   SO2       2000 non-null   float64\n",
      " 2   CO        2000 non-null   float64\n",
      " 3   O3        2000 non-null   float64\n",
      " 4   NO2       2000 non-null   float64\n",
      " 5   Kategori  2000 non-null   object \n",
      "dtypes: float64(5), object(1)\n",
      "memory usage: 93.9+ KB\n"
     ]
    }
   ],
   "source": [
    "import pandas as pd\n",
    "df = pd.read_excel(\"D:\\Data\\Kuliah\\TA\\Projek-Capstone-Design\\DATA\\Preprocessing\\Data balance.xlsx\")\n",
    "df.info()"
   ]
  },
  {
   "cell_type": "code",
   "execution_count": 16,
   "metadata": {},
   "outputs": [
    {
     "data": {
      "text/plain": [
       "PM10        500\n",
       "SO2         500\n",
       "CO          500\n",
       "O3          500\n",
       "NO2         500\n",
       "Kategori    500\n",
       "dtype: int64"
      ]
     },
     "execution_count": 16,
     "metadata": {},
     "output_type": "execute_result"
    }
   ],
   "source": [
    "df[df['Kategori'] == 'sangat tidak sehat'].count()"
   ]
  },
  {
   "cell_type": "code",
   "execution_count": 17,
   "metadata": {},
   "outputs": [
    {
     "name": "stdout",
     "output_type": "stream",
     "text": [
      "<class 'pandas.core.frame.DataFrame'>\n",
      "RangeIndex: 1530 entries, 0 to 1529\n",
      "Data columns (total 6 columns):\n",
      " #   Column    Non-Null Count  Dtype  \n",
      "---  ------    --------------  -----  \n",
      " 0   PM10      1530 non-null   float64\n",
      " 1   SO2       1530 non-null   float64\n",
      " 2   CO        1530 non-null   float64\n",
      " 3   O3        1530 non-null   float64\n",
      " 4   NO2       1530 non-null   float64\n",
      " 5   Kategori  1530 non-null   object \n",
      "dtypes: float64(5), object(1)\n",
      "memory usage: 71.8+ KB\n"
     ]
    }
   ],
   "source": [
    "import pandas as pd\n",
    "df = pd.read_excel(\"D:\\Data\\Kuliah\\TA\\Projek-Capstone-Design\\DATA\\Preprocessing\\Data imbalance.xlsx\")\n",
    "df.info()"
   ]
  },
  {
   "cell_type": "code",
   "execution_count": 18,
   "metadata": {},
   "outputs": [
    {
     "data": {
      "text/plain": [
       "PM10        30\n",
       "SO2         30\n",
       "CO          30\n",
       "O3          30\n",
       "NO2         30\n",
       "Kategori    30\n",
       "dtype: int64"
      ]
     },
     "execution_count": 18,
     "metadata": {},
     "output_type": "execute_result"
    }
   ],
   "source": [
    "df[df['Kategori'] == 'sangat tidak sehat'].count()"
   ]
  }
 ],
 "metadata": {
  "kernelspec": {
   "display_name": "Python 3",
   "language": "python",
   "name": "python3"
  },
  "language_info": {
   "codemirror_mode": {
    "name": "ipython",
    "version": 3
   },
   "file_extension": ".py",
   "mimetype": "text/x-python",
   "name": "python",
   "nbconvert_exporter": "python",
   "pygments_lexer": "ipython3",
   "version": "3.11.0"
  },
  "orig_nbformat": 4
 },
 "nbformat": 4,
 "nbformat_minor": 2
}
