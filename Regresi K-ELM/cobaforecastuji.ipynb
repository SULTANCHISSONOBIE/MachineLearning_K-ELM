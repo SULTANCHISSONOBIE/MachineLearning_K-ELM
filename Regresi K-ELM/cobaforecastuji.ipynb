{
 "cells": [
  {
   "cell_type": "code",
   "execution_count": 243,
   "metadata": {},
   "outputs": [],
   "source": [
    "import pandas as pd\n",
    "DKI5 = pd.read_excel(\"Validasi_Forecasting_2.xlsx\", sheet_name=\"DKI5\")\n",
    "DKI5_FOR = pd.read_excel(\"Validasi_Forecasting_2.xlsx\", sheet_name=\"DKI5_FOR\")"
   ]
  },
  {
   "cell_type": "code",
   "execution_count": 244,
   "metadata": {},
   "outputs": [
    {
     "name": "stdout",
     "output_type": "stream",
     "text": [
      "      Tanggal                           Wilayah      PM10       SO2        CO   \n",
      "0  2022-11-30  DKI5 (Kebon Jeruk) Jakarta Barat  0.511111  0.339286  0.082090  \\\n",
      "1  2022-12-01  DKI5 (Kebon Jeruk) Jakarta Barat  0.533333  0.303571  0.119403   \n",
      "2  2022-12-02  DKI5 (Kebon Jeruk) Jakarta Barat  0.511111  0.321429  0.111940   \n",
      "3  2022-12-03  DKI5 (Kebon Jeruk) Jakarta Barat  0.533333  0.357143  0.111940   \n",
      "4  2022-12-04  DKI5 (Kebon Jeruk) Jakarta Barat  0.555556  0.303571  0.134328   \n",
      "5  2022-12-05  DKI5 (Kebon Jeruk) Jakarta Barat  0.555556  0.267857  0.111940   \n",
      "6  2022-12-06  DKI5 (Kebon Jeruk) Jakarta Barat  0.600000  0.267857  0.119403   \n",
      "7  2022-12-07  DKI5 (Kebon Jeruk) Jakarta Barat  0.566667  0.267857  0.111940   \n",
      "8  2022-12-08  DKI5 (Kebon Jeruk) Jakarta Barat  0.511111  0.303571  0.082090   \n",
      "9  2022-12-09  DKI5 (Kebon Jeruk) Jakarta Barat  0.411111  0.321429  0.111940   \n",
      "10 2022-12-10  DKI5 (Kebon Jeruk) Jakarta Barat  0.522222  0.321429  0.134328   \n",
      "11 2022-12-11  DKI5 (Kebon Jeruk) Jakarta Barat  0.377778  0.285714  0.089552   \n",
      "12 2022-12-12  DKI5 (Kebon Jeruk) Jakarta Barat  0.244444  0.267857  0.052239   \n",
      "13 2022-12-13  DKI5 (Kebon Jeruk) Jakarta Barat  0.200000  0.267857  0.052239   \n",
      "14 2022-12-14  DKI5 (Kebon Jeruk) Jakarta Barat  0.517378  0.360627  0.145988   \n",
      "15 2022-12-15  DKI5 (Kebon Jeruk) Jakarta Barat  0.517378  0.360627  0.145988   \n",
      "16 2022-12-16  DKI5 (Kebon Jeruk) Jakarta Barat  0.300000  0.410714  0.074627   \n",
      "17 2022-12-17  DKI5 (Kebon Jeruk) Jakarta Barat  0.517378  0.360627  0.145988   \n",
      "18 2022-12-18  DKI5 (Kebon Jeruk) Jakarta Barat  0.517378  0.360627  0.145988   \n",
      "19 2022-12-19  DKI5 (Kebon Jeruk) Jakarta Barat  0.517378  0.360627  0.145988   \n",
      "20 2022-12-20  DKI5 (Kebon Jeruk) Jakarta Barat  0.644444  0.339286  0.156716   \n",
      "21 2022-12-21  DKI5 (Kebon Jeruk) Jakarta Barat  0.517378  0.360627  0.145988   \n",
      "22 2022-12-22  DKI5 (Kebon Jeruk) Jakarta Barat  0.517378  0.360627  0.145988   \n",
      "23 2022-12-23  DKI5 (Kebon Jeruk) Jakarta Barat  0.517378  0.360627  0.145988   \n",
      "24 2022-12-24  DKI5 (Kebon Jeruk) Jakarta Barat  0.517378  0.360627  0.145988   \n",
      "25 2022-12-25  DKI5 (Kebon Jeruk) Jakarta Barat  0.517378  0.360627  0.145988   \n",
      "26 2022-12-26  DKI5 (Kebon Jeruk) Jakarta Barat  0.311111  0.392857  0.089552   \n",
      "27 2022-12-27  DKI5 (Kebon Jeruk) Jakarta Barat  0.377778  0.482143  0.089552   \n",
      "28 2022-12-28  DKI5 (Kebon Jeruk) Jakarta Barat  0.144444  0.339286  0.082090   \n",
      "29 2022-12-29  DKI5 (Kebon Jeruk) Jakarta Barat  0.517378  0.360627  0.145988   \n",
      "\n",
      "          O3       NO2  \n",
      "0   0.091667  0.007463  \n",
      "1   0.095833  0.029851  \n",
      "2   0.083333  0.022388  \n",
      "3   0.104167  0.022388  \n",
      "4   0.125000  0.029851  \n",
      "5   0.112500  0.022388  \n",
      "6   0.079167  0.029851  \n",
      "7   0.075000  0.022388  \n",
      "8   0.125000  0.014925  \n",
      "9   0.091667  0.029851  \n",
      "10  0.041667  0.007463  \n",
      "11  0.050000  0.007463  \n",
      "12  0.075000  3.134328  \n",
      "13  0.070833  3.134328  \n",
      "14  0.263397  0.091133  \n",
      "15  0.263397  0.091133  \n",
      "16  0.066667  3.582090  \n",
      "17  0.263397  0.091133  \n",
      "18  0.263397  0.091133  \n",
      "19  0.263397  0.091133  \n",
      "20  0.066667  0.029851  \n",
      "21  0.263397  0.091133  \n",
      "22  0.263397  0.091133  \n",
      "23  0.263397  0.091133  \n",
      "24  0.263397  0.091133  \n",
      "25  0.263397  0.091133  \n",
      "26  0.037500  0.007463  \n",
      "27  0.041667  4.328358  \n",
      "28  0.033333  0.007463  \n",
      "29  0.263397  0.091133  \n"
     ]
    }
   ],
   "source": [
    "print(DKI5)"
   ]
  },
  {
   "cell_type": "code",
   "execution_count": 245,
   "metadata": {},
   "outputs": [],
   "source": [
    "y_train = DKI5['NO2'].values.reshape(-1,)"
   ]
  },
  {
   "cell_type": "code",
   "execution_count": 246,
   "metadata": {},
   "outputs": [
    {
     "data": {
      "text/plain": [
       "array([  0.74626866,   2.98507463,   2.23880597,   2.23880597,\n",
       "         2.98507463,   2.23880597,   2.98507463,   2.23880597,\n",
       "         1.49253731,   2.98507463,   0.74626866,   0.74626866,\n",
       "       313.43283582, 313.43283582,   9.11334705,   9.11334705,\n",
       "       358.20895522,   9.11334705,   9.11334705,   9.11334705,\n",
       "         2.98507463,   9.11334705,   9.11334705,   9.11334705,\n",
       "         9.11334705,   9.11334705,   0.74626866, 432.8358209 ,\n",
       "         0.74626866,   9.11334705])"
      ]
     },
     "execution_count": 246,
     "metadata": {},
     "output_type": "execute_result"
    }
   ],
   "source": [
    "max_value = 100.0\n",
    "min_value = 0.0\n",
    "y_true = (y_train.flatten() * (max_value - min_value) + min_value)\n",
    "y_true"
   ]
  },
  {
   "cell_type": "code",
   "execution_count": 247,
   "metadata": {},
   "outputs": [
    {
     "data": {
      "text/plain": [
       "array([2.3880597 , 2.3880597 , 2.3880597 , 2.53731343, 2.53731343,\n",
       "       2.68656716, 2.68656716, 2.68656716, 2.8358209 , 2.8358209 ,\n",
       "       2.8358209 , 2.98507463, 2.98507463, 3.13432836, 3.13432836,\n",
       "       3.13432836, 3.58208955, 3.58208955, 3.73134328, 3.73134328,\n",
       "       3.73134328, 3.88059701, 3.88059701, 3.88059701, 4.17910448,\n",
       "       4.17910448, 4.17910448, 4.32835821, 4.32835821, 4.47761194])"
      ]
     },
     "execution_count": 247,
     "metadata": {},
     "output_type": "execute_result"
    }
   ],
   "source": [
    "y_forecasting = DKI5_FOR['NO2'].values.reshape(-1,)\n",
    "y_forecasting"
   ]
  },
  {
   "cell_type": "code",
   "execution_count": 248,
   "metadata": {},
   "outputs": [
    {
     "name": "stdout",
     "output_type": "stream",
     "text": [
      "Root Mean Squared Error (RMSE): 129.408\n",
      "Mean Squared Error (MSE): 16746.481\n",
      "Mean Absolute Error (MAE): 49.342\n",
      "R-squared (R2): -0.159\n",
      "Mean Absolute Percentage Error (MAPE): 100.083\n"
     ]
    }
   ],
   "source": [
    "import pandas as pd\n",
    "from sklearn.metrics import mean_squared_error, mean_absolute_error, r2_score\n",
    "import numpy as np\n",
    "\n",
    "def rmse(y_true, y_forecasting):\n",
    "    return np.sqrt(mean_squared_error(y_true, y_forecasting))\n",
    "\n",
    "def mse(y_true, y_forecasting):\n",
    "    return mean_squared_error(y_true, y_forecasting)\n",
    "\n",
    "def mae(y_true, y_forecasting):\n",
    "    return mean_absolute_error(y_true, y_forecasting)\n",
    "\n",
    "def rsquared(y_true, y_forecasting):\n",
    "    return r2_score(y_true, y_forecasting)\n",
    "\n",
    "def mape(y_true, y_forecasting):\n",
    "    return np.mean(np.abs((y_true - y_forecasting) / y_true)) * 100\n",
    "\n",
    "# Menghitung metrik evaluasi\n",
    "print(f\"Root Mean Squared Error (RMSE): {rmse(y_true, y_forecasting):.3f}\")\n",
    "print(f\"Mean Squared Error (MSE): {mse(y_true, y_forecasting):.3f}\")\n",
    "print(f\"Mean Absolute Error (MAE): {mae(y_true, y_forecasting):.3f}\")\n",
    "print(f\"R-squared (R2): {rsquared(y_true, y_forecasting):.3f}\")\n",
    "print(f\"Mean Absolute Percentage Error (MAPE): {mape(y_true, y_forecasting):.3f}\")"
   ]
  }
 ],
 "metadata": {
  "kernelspec": {
   "display_name": "Python 3",
   "language": "python",
   "name": "python3"
  },
  "language_info": {
   "codemirror_mode": {
    "name": "ipython",
    "version": 3
   },
   "file_extension": ".py",
   "mimetype": "text/x-python",
   "name": "python",
   "nbconvert_exporter": "python",
   "pygments_lexer": "ipython3",
   "version": "3.11.0"
  },
  "orig_nbformat": 4
 },
 "nbformat": 4,
 "nbformat_minor": 2
}
